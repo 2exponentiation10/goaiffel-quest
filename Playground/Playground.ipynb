{
  "nbformat": 4,
  "nbformat_minor": 0,
  "metadata": {
    "colab": {
      "provenance": []
    },
    "kernelspec": {
      "name": "python3",
      "display_name": "Python 3"
    },
    "language_info": {
      "name": "python"
    }
  },
  "cells": [
    {
      "cell_type": "code",
      "source": [
        "import tensorflow as tf\n",
        "import pandas as pd\n",
        "import numpy as np\n",
        "from tensorflow import keras\n",
        "from tensorflow.keras import layers\n",
        "from tensorflow.keras.datasets import mnist"
      ],
      "metadata": {
        "id": "4QA9D3G22ltw"
      },
      "execution_count": 1,
      "outputs": []
    },
    {
      "cell_type": "markdown",
      "source": [
        "## **1. 학습 진행**"
      ],
      "metadata": {
        "id": "-tH6327YOfWQ"
      }
    },
    {
      "cell_type": "markdown",
      "source": [
        "### **1. Sequential model**"
      ],
      "metadata": {
        "id": "n205AE25QMTV"
      }
    },
    {
      "cell_type": "code",
      "source": [
        "# Sequential 클래스\n",
        "model = keras.Sequential([\n",
        "    layers.Dense(64, activation=\"relu\"),\n",
        "    layers.Dense(10, activation=\"softmax\")\n",
        "])"
      ],
      "metadata": {
        "id": "_n3d_nNOPJdA"
      },
      "execution_count": 2,
      "outputs": []
    },
    {
      "cell_type": "code",
      "source": [
        "# 점진적으로 Sequential 모델 만들기\n",
        "model = keras.Sequential()\n",
        "model.add(layers.Dense(64, activation=\"relu\"))\n",
        "model.add(layers.Dense(10, activation=\"softmax\"))"
      ],
      "metadata": {
        "id": "VLoCwNjkPa6E"
      },
      "execution_count": 3,
      "outputs": []
    },
    {
      "cell_type": "code",
      "source": [
        "# 가중치를 만들기 위해 모델을 호출합니다\n",
        "model.build(input_shape=(None, 3))\n",
        "model.weights"
      ],
      "metadata": {
        "colab": {
          "base_uri": "https://localhost:8080/"
        },
        "id": "dm8feTg3PgYV",
        "outputId": "1d495c31-3077-46b5-98dc-bd3df48482ae"
      },
      "execution_count": 4,
      "outputs": [
        {
          "output_type": "execute_result",
          "data": {
            "text/plain": [
              "[<tf.Variable 'dense_2/kernel:0' shape=(3, 64) dtype=float32, numpy=\n",
              " array([[-0.08215928, -0.24898413,  0.07142678,  0.05538231, -0.13596779,\n",
              "         -0.1681898 ,  0.01447412, -0.01806447,  0.15138939, -0.18678501,\n",
              "         -0.08933933,  0.13819754, -0.15642032,  0.08709237, -0.13357452,\n",
              "          0.24217254,  0.17171949,  0.25160778, -0.22227514, -0.07958606,\n",
              "         -0.13617356,  0.24598646,  0.2890365 , -0.21975943,  0.14248481,\n",
              "          0.00578222, -0.12244061,  0.1986002 , -0.06613429,  0.04151207,\n",
              "         -0.08820412,  0.19526151, -0.10474053, -0.12642115, -0.10821086,\n",
              "         -0.26059136,  0.03282487,  0.23127812,  0.13524804,  0.14024785,\n",
              "          0.22629982,  0.26786178,  0.16443548,  0.01943725,  0.2764848 ,\n",
              "         -0.1829301 , -0.10013983,  0.05460382,  0.04944861, -0.0705031 ,\n",
              "          0.12048185, -0.16553895,  0.01603362,  0.13148925,  0.15503588,\n",
              "          0.27787519, -0.01456958, -0.2650973 ,  0.02819264, -0.22764003,\n",
              "         -0.0086199 , -0.23063749,  0.0808278 ,  0.08345237],\n",
              "        [ 0.01105207, -0.2522046 , -0.20150119,  0.10468915,  0.01403674,\n",
              "          0.20263857, -0.18399218, -0.03838885,  0.19602641,  0.21328592,\n",
              "          0.00727886, -0.0276213 ,  0.00612175, -0.16428973, -0.03372934,\n",
              "          0.22026783,  0.13718078,  0.04000971, -0.16993959, -0.03840795,\n",
              "         -0.2632858 ,  0.18124089, -0.28436175, -0.27771595, -0.27426323,\n",
              "          0.22339189,  0.21612483, -0.00797486,  0.09372193, -0.2511022 ,\n",
              "         -0.1584625 , -0.14415962, -0.06707315, -0.0670429 , -0.2243042 ,\n",
              "          0.01728591,  0.14889795, -0.06628026, -0.08590145,  0.17130461,\n",
              "         -0.08410984, -0.07363732, -0.09087016, -0.2503366 , -0.23173389,\n",
              "          0.1442354 , -0.28793034,  0.09734735, -0.08052477, -0.18673313,\n",
              "          0.05782267, -0.12961951, -0.14928393, -0.03109434,  0.21792495,\n",
              "         -0.03539968, -0.0712626 , -0.14731497, -0.000301  , -0.1484583 ,\n",
              "         -0.25354758, -0.1346692 , -0.20316088, -0.00450218],\n",
              "        [-0.23306915, -0.12416914, -0.02150011,  0.22038251,  0.23364675,\n",
              "         -0.06975174,  0.22087324,  0.20583957, -0.27059475,  0.02626961,\n",
              "         -0.02341902, -0.23512423, -0.04767022,  0.14046541,  0.14342347,\n",
              "         -0.28246626,  0.1327855 , -0.08994164, -0.1209092 , -0.2139521 ,\n",
              "          0.16564819, -0.15121838, -0.2851278 , -0.20213768, -0.03490317,\n",
              "         -0.20258282, -0.1759397 ,  0.09691593, -0.06244056, -0.12485458,\n",
              "          0.04813877,  0.23273313, -0.18314257,  0.2745232 , -0.15875474,\n",
              "         -0.2543022 , -0.22704971, -0.22877653, -0.15024833, -0.1221488 ,\n",
              "          0.15389398,  0.17615074,  0.2187491 , -0.05915259,  0.21972394,\n",
              "         -0.16997312,  0.27504057, -0.29404587,  0.10208163, -0.16805166,\n",
              "          0.28196406,  0.01278695, -0.17461827, -0.04205495,  0.21278596,\n",
              "          0.19553113,  0.23902279,  0.280222  , -0.12323514,  0.11026347,\n",
              "          0.12937543, -0.05929977, -0.14216731, -0.07885939]],\n",
              "       dtype=float32)>,\n",
              " <tf.Variable 'dense_2/bias:0' shape=(64,) dtype=float32, numpy=\n",
              " array([0., 0., 0., 0., 0., 0., 0., 0., 0., 0., 0., 0., 0., 0., 0., 0., 0.,\n",
              "        0., 0., 0., 0., 0., 0., 0., 0., 0., 0., 0., 0., 0., 0., 0., 0., 0.,\n",
              "        0., 0., 0., 0., 0., 0., 0., 0., 0., 0., 0., 0., 0., 0., 0., 0., 0.,\n",
              "        0., 0., 0., 0., 0., 0., 0., 0., 0., 0., 0., 0., 0.], dtype=float32)>,\n",
              " <tf.Variable 'dense_3/kernel:0' shape=(64, 10) dtype=float32, numpy=\n",
              " array([[-0.16900773,  0.27871123,  0.1348733 ,  0.0809781 , -0.16721343,\n",
              "         -0.13632797, -0.1228856 , -0.22458199, -0.05946696,  0.12331426],\n",
              "        [ 0.14346224, -0.01899055,  0.2684656 , -0.04891001,  0.2264019 ,\n",
              "          0.07731709,  0.01635087,  0.15553358,  0.1458714 ,  0.27081546],\n",
              "        [-0.11415669,  0.23975524, -0.10551374, -0.09447415,  0.15372413,\n",
              "          0.15597391,  0.12437841,  0.1648705 ,  0.13176602, -0.2226883 ],\n",
              "        [-0.04081701, -0.20854388, -0.05179243,  0.06472409, -0.10369255,\n",
              "         -0.06087205, -0.05172496,  0.03414229, -0.07029988,  0.2733076 ],\n",
              "        [-0.11104554,  0.24345347, -0.28157413,  0.27733126,  0.16056228,\n",
              "          0.02412593,  0.1708313 , -0.26550063, -0.2822143 , -0.00826129],\n",
              "        [-0.15475762,  0.04243881, -0.09572311,  0.24950448, -0.18778801,\n",
              "         -0.14492096,  0.1246886 ,  0.10515562, -0.21846649, -0.173011  ],\n",
              "        [-0.16258685,  0.00258243,  0.16005391, -0.14966995, -0.23257634,\n",
              "         -0.14687915, -0.17744043,  0.01639175, -0.26913047, -0.23301443],\n",
              "        [ 0.04847312,  0.02794451, -0.06892133, -0.18487103, -0.1344131 ,\n",
              "         -0.11492696,  0.0507845 , -0.01695061,  0.01734418, -0.06482503],\n",
              "        [ 0.11395675,  0.04002279,  0.1339564 , -0.2564665 ,  0.20377114,\n",
              "          0.1038599 , -0.21260479, -0.07072289,  0.24408516, -0.147026  ],\n",
              "        [-0.25260818,  0.0696736 ,  0.2628602 , -0.07879965,  0.02074417,\n",
              "         -0.21972942, -0.19365601,  0.14317241,  0.08438957,  0.10663539],\n",
              "        [ 0.1313678 ,  0.0105108 ,  0.04367486, -0.07971175,  0.07586583,\n",
              "          0.0079543 ,  0.15676352,  0.03278294, -0.06050178,  0.2704608 ],\n",
              "        [-0.18830656, -0.03177786,  0.26998618, -0.1770498 ,  0.11787069,\n",
              "         -0.08875193,  0.04641038,  0.26027772, -0.0549213 ,  0.24919656],\n",
              "        [-0.0268622 ,  0.13967797, -0.19015151,  0.23954698,  0.02844322,\n",
              "         -0.281771  ,  0.154217  , -0.09412155, -0.2252207 , -0.08453785],\n",
              "        [ 0.10547435,  0.00773317,  0.03189781, -0.06508546,  0.19862807,\n",
              "         -0.0022178 ,  0.00670445,  0.2817919 ,  0.23892257, -0.06821467],\n",
              "        [-0.11198506,  0.15097973,  0.15265808, -0.21951923, -0.13030648,\n",
              "          0.08114326, -0.11294678, -0.18490139,  0.15890408,  0.23818782],\n",
              "        [-0.21545614,  0.25447527, -0.16727024,  0.21288547,  0.26265237,\n",
              "         -0.18994975, -0.01943353,  0.2211431 ,  0.19524637, -0.23737949],\n",
              "        [ 0.00860006,  0.24075946,  0.11391792,  0.18542644, -0.02440226,\n",
              "         -0.24416494,  0.11419198,  0.06256148,  0.1605624 ,  0.03804794],\n",
              "        [-0.031297  , -0.01745999,  0.13755417,  0.18008092, -0.19436586,\n",
              "         -0.14127879,  0.01900166, -0.20212659, -0.22550583, -0.15437554],\n",
              "        [-0.04583198,  0.12913227, -0.12429389,  0.26460478, -0.21721637,\n",
              "         -0.11700933,  0.00784424, -0.2685133 , -0.27295765,  0.02457741],\n",
              "        [-0.16469556, -0.13792105,  0.13752139,  0.16269064, -0.06787284,\n",
              "          0.00662088,  0.2260103 , -0.1189221 , -0.18568963, -0.02774435],\n",
              "        [ 0.24002704,  0.28358993,  0.10679147,  0.0306012 , -0.11016496,\n",
              "         -0.09445821,  0.00183496,  0.27296504,  0.12703559,  0.16798782],\n",
              "        [ 0.19483891, -0.26468977, -0.1862601 ,  0.1585336 ,  0.11603817,\n",
              "          0.18640724,  0.1913065 ,  0.18393043, -0.11724822, -0.12701806],\n",
              "        [ 0.06349516,  0.12925589,  0.10720894,  0.17494145, -0.19672039,\n",
              "         -0.02426103, -0.15018617, -0.16431299, -0.23068753, -0.18388188],\n",
              "        [ 0.23282656,  0.11996317,  0.12627232,  0.10674959,  0.08608192,\n",
              "          0.21473238, -0.2755413 ,  0.10482147, -0.10223937,  0.0803903 ],\n",
              "        [ 0.08770609,  0.09843975, -0.09947948,  0.25109288, -0.05929561,\n",
              "          0.16124225,  0.07637772,  0.07402414,  0.18129158, -0.00961506],\n",
              "        [ 0.20081702,  0.126281  ,  0.06515062, -0.27855664,  0.1999158 ,\n",
              "         -0.00617647, -0.1513876 ,  0.15174767, -0.25881737,  0.25930348],\n",
              "        [ 0.09530669, -0.19292274, -0.27369192,  0.07872492,  0.22168133,\n",
              "          0.19840145, -0.03026617, -0.21196625, -0.06871915,  0.2046526 ],\n",
              "        [-0.24982384,  0.04287079, -0.23819375, -0.09635204,  0.13838392,\n",
              "          0.19823804, -0.10331732,  0.11730334,  0.03016034, -0.12781665],\n",
              "        [-0.08960874,  0.21554449,  0.28076497, -0.1903418 ,  0.06221578,\n",
              "          0.01103204, -0.04561242,  0.20189896, -0.03333843,  0.05433589],\n",
              "        [-0.1027679 ,  0.2503154 ,  0.13628942,  0.10309565,  0.10136551,\n",
              "         -0.07135786,  0.11129686,  0.16058141, -0.14157824, -0.01591647],\n",
              "        [-0.02824512, -0.1265062 ,  0.14899987,  0.24921766, -0.09781368,\n",
              "          0.14017633,  0.12926397, -0.26945245,  0.12743315,  0.13628736],\n",
              "        [-0.15193702,  0.12404799,  0.16068569,  0.0636012 , -0.27985972,\n",
              "         -0.23496869, -0.17702225,  0.10540438, -0.05615471,  0.26194575],\n",
              "        [-0.06411111, -0.13091795,  0.2653351 ,  0.01885158, -0.22211057,\n",
              "         -0.0773488 , -0.08797948, -0.0861111 , -0.01254731,  0.24629083],\n",
              "        [ 0.07689565, -0.024903  , -0.04441018,  0.08132818,  0.05843693,\n",
              "         -0.10154589,  0.1963464 ,  0.24113122, -0.24551436, -0.16887501],\n",
              "        [ 0.05182666, -0.01039144, -0.1877756 ,  0.21376923,  0.18424001,\n",
              "         -0.04456028, -0.02631924, -0.27285996,  0.28360727,  0.00185698],\n",
              "        [-0.21034315,  0.20214257, -0.07217626,  0.06888288,  0.07209364,\n",
              "          0.12256828, -0.27100292, -0.16080713,  0.18535203,  0.25661328],\n",
              "        [ 0.0761646 ,  0.23088506,  0.08698788, -0.05920579, -0.20761313,\n",
              "          0.2610884 ,  0.00613371,  0.07454771,  0.12042204, -0.11979976],\n",
              "        [-0.18148261,  0.16703561,  0.25440452,  0.23330238, -0.14562294,\n",
              "          0.0200139 , -0.0195716 ,  0.19392675,  0.20795143, -0.09847927],\n",
              "        [ 0.11112607, -0.16943292, -0.00624585, -0.23186812,  0.01521063,\n",
              "         -0.26093638, -0.03222516,  0.04152849,  0.05799037, -0.08147863],\n",
              "        [-0.16161612, -0.1049546 ,  0.00111541, -0.15197918,  0.04019487,\n",
              "          0.0648748 , -0.17287144, -0.1255827 ,  0.20943391,  0.15161943],\n",
              "        [ 0.2330595 ,  0.12286523, -0.07600018,  0.20646864,  0.12061429,\n",
              "          0.08560973,  0.21583828,  0.04288444, -0.2317001 ,  0.06917021],\n",
              "        [-0.15665525,  0.21628085,  0.16501573,  0.2347773 ,  0.00657988,\n",
              "          0.16198054, -0.16858554,  0.04532349, -0.07421063, -0.07152887],\n",
              "        [ 0.00441298, -0.06279597,  0.01486811, -0.05314186, -0.09394346,\n",
              "          0.27282342,  0.20557517, -0.2519243 ,  0.21702513, -0.07013233],\n",
              "        [ 0.11610267,  0.06902662,  0.09615129,  0.02405071,  0.24587867,\n",
              "         -0.15424818, -0.19828707, -0.23656414,  0.1894173 , -0.07085827],\n",
              "        [-0.11541747, -0.1219579 ,  0.15149003, -0.16641805,  0.03260386,\n",
              "         -0.27608204,  0.08131114, -0.15027578, -0.14250499, -0.03513375],\n",
              "        [-0.17462617, -0.05579314, -0.19463877, -0.02533415, -0.03473407,\n",
              "         -0.16886067, -0.28408378,  0.18231943, -0.22342734, -0.27508473],\n",
              "        [-0.03440565, -0.11555426, -0.10494944,  0.09260809,  0.1202572 ,\n",
              "          0.2724652 ,  0.01691619, -0.13811685,  0.01898274,  0.2414873 ],\n",
              "        [-0.24133722,  0.25952038,  0.25936285, -0.21061918, -0.24369392,\n",
              "         -0.20631272, -0.13212156,  0.19766942,  0.11714137, -0.08300138],\n",
              "        [ 0.0399608 ,  0.07813725, -0.21083412,  0.02303061, -0.01487198,\n",
              "         -0.2745787 ,  0.13166663, -0.09914045,  0.02700484,  0.1904729 ],\n",
              "        [ 0.02454725, -0.11736894,  0.24820021,  0.05753794, -0.25006777,\n",
              "         -0.13196698,  0.02729949, -0.25327381, -0.200127  , -0.09833446],\n",
              "        [ 0.18660396, -0.21835113, -0.10309586, -0.12100723,  0.20450583,\n",
              "          0.03771448, -0.15714636,  0.03297099,  0.17589134,  0.27216336],\n",
              "        [ 0.26806942,  0.22536668,  0.23136154,  0.28077534, -0.1884644 ,\n",
              "         -0.03523117, -0.14761452, -0.0757217 , -0.06383175,  0.01724851],\n",
              "        [-0.27189404,  0.10064405, -0.02227312,  0.25987282,  0.21022746,\n",
              "          0.21684405, -0.2580249 , -0.07665436, -0.07890631,  0.2590951 ],\n",
              "        [ 0.21221587,  0.21222436,  0.16749457,  0.0408029 ,  0.00460675,\n",
              "          0.10944939,  0.06382909,  0.2688215 ,  0.09506091,  0.23316786],\n",
              "        [ 0.05332816, -0.06183764,  0.2649435 , -0.06642517,  0.24289158,\n",
              "         -0.23081571, -0.0837411 , -0.04804741, -0.2520885 , -0.24538076],\n",
              "        [-0.28109992, -0.15405694,  0.13528383,  0.0132013 , -0.08428659,\n",
              "         -0.24515918, -0.05657794, -0.13739723, -0.04701786,  0.01670289],\n",
              "        [-0.21241546,  0.28288105,  0.275583  ,  0.21883425,  0.02425501,\n",
              "         -0.01496324,  0.20156741,  0.2463071 ,  0.1250732 ,  0.01644897],\n",
              "        [-0.15359399,  0.00429046,  0.0463607 ,  0.19647184,  0.10371807,\n",
              "         -0.00301623, -0.12712207, -0.2026186 , -0.1798346 ,  0.22581246],\n",
              "        [-0.20947267,  0.12734854, -0.2462771 , -0.02722949,  0.17806622,\n",
              "          0.1743711 , -0.00894073,  0.04823831,  0.07795253,  0.17368001],\n",
              "        [-0.11955136, -0.15849857, -0.1156842 , -0.16581824, -0.17957018,\n",
              "         -0.0644473 , -0.06420289, -0.25470138, -0.09336098,  0.21943703],\n",
              "        [ 0.06817189, -0.02010792, -0.27941632,  0.2368159 , -0.1965478 ,\n",
              "          0.18092227,  0.00527838, -0.14027125, -0.14763924, -0.17519113],\n",
              "        [ 0.12417582, -0.272856  ,  0.25867876,  0.23362544, -0.1495738 ,\n",
              "         -0.22203425,  0.21092108, -0.07187748, -0.14140974, -0.01428503],\n",
              "        [-0.05933471,  0.15551749, -0.13054097, -0.03615561,  0.127285  ,\n",
              "         -0.11052082,  0.15385407,  0.22964242,  0.24930087, -0.26431257],\n",
              "        [-0.21230018,  0.13959193, -0.198861  , -0.18388861,  0.2029979 ,\n",
              "         -0.275084  ,  0.07274333, -0.07263248,  0.14817503,  0.15441993]],\n",
              "       dtype=float32)>,\n",
              " <tf.Variable 'dense_3/bias:0' shape=(10,) dtype=float32, numpy=array([0., 0., 0., 0., 0., 0., 0., 0., 0., 0.], dtype=float32)>]"
            ]
          },
          "metadata": {},
          "execution_count": 4
        }
      ]
    },
    {
      "cell_type": "code",
      "source": [
        "# summary 메서드\n",
        "model.summary()"
      ],
      "metadata": {
        "colab": {
          "base_uri": "https://localhost:8080/"
        },
        "id": "4HoHwnj6PsSj",
        "outputId": "49cf0f3f-d623-4ae2-e349-9b71f8381fbe"
      },
      "execution_count": 5,
      "outputs": [
        {
          "output_type": "stream",
          "name": "stdout",
          "text": [
            "Model: \"sequential_1\"\n",
            "_________________________________________________________________\n",
            " Layer (type)                Output Shape              Param #   \n",
            "=================================================================\n",
            " dense_2 (Dense)             (None, 64)                256       \n",
            "                                                                 \n",
            " dense_3 (Dense)             (None, 10)                650       \n",
            "                                                                 \n",
            "=================================================================\n",
            "Total params: 906 (3.54 KB)\n",
            "Trainable params: 906 (3.54 KB)\n",
            "Non-trainable params: 0 (0.00 Byte)\n",
            "_________________________________________________________________\n"
          ]
        }
      ]
    },
    {
      "cell_type": "code",
      "source": [
        "# name 매개변수로 모델과 층에 이름 지정하기\n",
        "model = keras.Sequential(name=\"my_example_model\")\n",
        "model.add(layers.Dense(64, activation=\"relu\", name=\"my_first_layer\"))\n",
        "model.add(layers.Dense(10, activation=\"softmax\", name=\"my_last_layer\"))\n",
        "model.build((None, 3))\n",
        "model.summary()"
      ],
      "metadata": {
        "colab": {
          "base_uri": "https://localhost:8080/"
        },
        "id": "63khCskcPv-R",
        "outputId": "5d61a9e6-aae9-498a-d573-beb63dd1d6e2"
      },
      "execution_count": 6,
      "outputs": [
        {
          "output_type": "stream",
          "name": "stdout",
          "text": [
            "Model: \"my_example_model\"\n",
            "_________________________________________________________________\n",
            " Layer (type)                Output Shape              Param #   \n",
            "=================================================================\n",
            " my_first_layer (Dense)      (None, 64)                256       \n",
            "                                                                 \n",
            " my_last_layer (Dense)       (None, 10)                650       \n",
            "                                                                 \n",
            "=================================================================\n",
            "Total params: 906 (3.54 KB)\n",
            "Trainable params: 906 (3.54 KB)\n",
            "Non-trainable params: 0 (0.00 Byte)\n",
            "_________________________________________________________________\n"
          ]
        }
      ]
    },
    {
      "cell_type": "code",
      "source": [
        "# 모델의 입력 크기를 미리 지정하기\n",
        "model = keras.Sequential()\n",
        "model.add(keras.Input(shape=(3,)))\n",
        "model.add(layers.Dense(64, activation=\"relu\"))\n",
        "model.summary()"
      ],
      "metadata": {
        "colab": {
          "base_uri": "https://localhost:8080/"
        },
        "id": "BhQUDQ-NP4cs",
        "outputId": "98907d4b-6092-4943-ed72-154820ad1e99"
      },
      "execution_count": 7,
      "outputs": [
        {
          "output_type": "stream",
          "name": "stdout",
          "text": [
            "Model: \"sequential_2\"\n",
            "_________________________________________________________________\n",
            " Layer (type)                Output Shape              Param #   \n",
            "=================================================================\n",
            " dense_4 (Dense)             (None, 64)                256       \n",
            "                                                                 \n",
            "=================================================================\n",
            "Total params: 256 (1.00 KB)\n",
            "Trainable params: 256 (1.00 KB)\n",
            "Non-trainable params: 0 (0.00 Byte)\n",
            "_________________________________________________________________\n"
          ]
        }
      ]
    },
    {
      "cell_type": "code",
      "source": [
        "model.add(layers.Dense(10, activation=\"softmax\"))\n",
        "model.summary()"
      ],
      "metadata": {
        "colab": {
          "base_uri": "https://localhost:8080/"
        },
        "id": "57hIUXVDP9V1",
        "outputId": "e2f0559b-213f-4e77-96da-34e6de57dd22"
      },
      "execution_count": 8,
      "outputs": [
        {
          "output_type": "stream",
          "name": "stdout",
          "text": [
            "Model: \"sequential_2\"\n",
            "_________________________________________________________________\n",
            " Layer (type)                Output Shape              Param #   \n",
            "=================================================================\n",
            " dense_4 (Dense)             (None, 64)                256       \n",
            "                                                                 \n",
            " dense_5 (Dense)             (None, 10)                650       \n",
            "                                                                 \n",
            "=================================================================\n",
            "Total params: 906 (3.54 KB)\n",
            "Trainable params: 906 (3.54 KB)\n",
            "Non-trainable params: 0 (0.00 Byte)\n",
            "_________________________________________________________________\n"
          ]
        }
      ]
    },
    {
      "cell_type": "markdown",
      "source": [
        "### **2. Functional API model**"
      ],
      "metadata": {
        "id": "L2jKxGmfQSsE"
      }
    },
    {
      "cell_type": "code",
      "source": [
        "# (간단한 예제) 두 개의 Dense 층을 가진 간단한 함수형 모델\n",
        "inputs = keras.Input(shape=(3,), name=\"my_input\")\n",
        "features = layers.Dense(64, activation=\"relu\")(inputs)\n",
        "outputs = layers.Dense(10, activation=\"softmax\")(features)\n",
        "model = keras.Model(inputs=inputs, outputs=outputs)"
      ],
      "metadata": {
        "id": "Iau4Gyu2QYL-"
      },
      "execution_count": 9,
      "outputs": []
    },
    {
      "cell_type": "code",
      "source": [
        "inputs = keras.Input(shape=(3,), name=\"my_input\")"
      ],
      "metadata": {
        "id": "6JnYE94tQcR2"
      },
      "execution_count": 10,
      "outputs": []
    },
    {
      "cell_type": "code",
      "source": [
        "inputs.shape"
      ],
      "metadata": {
        "colab": {
          "base_uri": "https://localhost:8080/"
        },
        "id": "VHP9owXjQeoG",
        "outputId": "5acee117-5112-4780-b271-71cb3efd8d94"
      },
      "execution_count": 11,
      "outputs": [
        {
          "output_type": "execute_result",
          "data": {
            "text/plain": [
              "TensorShape([None, 3])"
            ]
          },
          "metadata": {},
          "execution_count": 11
        }
      ]
    },
    {
      "cell_type": "code",
      "source": [
        "inputs.dtype"
      ],
      "metadata": {
        "colab": {
          "base_uri": "https://localhost:8080/"
        },
        "id": "F7QTnppWQgVI",
        "outputId": "b74b7dab-0e33-45a2-cf48-8d309dbbd1e1"
      },
      "execution_count": 12,
      "outputs": [
        {
          "output_type": "execute_result",
          "data": {
            "text/plain": [
              "tf.float32"
            ]
          },
          "metadata": {},
          "execution_count": 12
        }
      ]
    },
    {
      "cell_type": "code",
      "source": [
        "features = layers.Dense(64, activation=\"relu\")(inputs)"
      ],
      "metadata": {
        "id": "4LFe2SxXQhxg"
      },
      "execution_count": 13,
      "outputs": []
    },
    {
      "cell_type": "code",
      "source": [
        "features.shape"
      ],
      "metadata": {
        "colab": {
          "base_uri": "https://localhost:8080/"
        },
        "id": "rFg7BXkyQnYl",
        "outputId": "b0d76183-778d-4344-ea1d-58f5803af2a4"
      },
      "execution_count": 14,
      "outputs": [
        {
          "output_type": "execute_result",
          "data": {
            "text/plain": [
              "TensorShape([None, 64])"
            ]
          },
          "metadata": {},
          "execution_count": 14
        }
      ]
    },
    {
      "cell_type": "code",
      "source": [
        "outputs = layers.Dense(10, activation=\"softmax\")(features)\n",
        "model = keras.Model(inputs=inputs, outputs=outputs)\n",
        "model.summary()"
      ],
      "metadata": {
        "colab": {
          "base_uri": "https://localhost:8080/"
        },
        "id": "faHt7ucGQpcs",
        "outputId": "53ba45a2-ca73-49a3-a74d-7b8c5820136d"
      },
      "execution_count": 15,
      "outputs": [
        {
          "output_type": "stream",
          "name": "stdout",
          "text": [
            "Model: \"model_1\"\n",
            "_________________________________________________________________\n",
            " Layer (type)                Output Shape              Param #   \n",
            "=================================================================\n",
            " my_input (InputLayer)       [(None, 3)]               0         \n",
            "                                                                 \n",
            " dense_8 (Dense)             (None, 64)                256       \n",
            "                                                                 \n",
            " dense_9 (Dense)             (None, 10)                650       \n",
            "                                                                 \n",
            "=================================================================\n",
            "Total params: 906 (3.54 KB)\n",
            "Trainable params: 906 (3.54 KB)\n",
            "Non-trainable params: 0 (0.00 Byte)\n",
            "_________________________________________________________________\n"
          ]
        }
      ]
    },
    {
      "cell_type": "code",
      "source": [
        "# 다중 입력, 다중 출력 함수형 모델\n",
        "vocabulary_size = 10000\n",
        "num_tags = 100\n",
        "num_departments = 4\n",
        "\n",
        "title = keras.Input(shape=(vocabulary_size,), name=\"title\")\n",
        "text_body = keras.Input(shape=(vocabulary_size,), name=\"text_body\")\n",
        "tags = keras.Input(shape=(num_tags,), name=\"tags\")\n",
        "\n",
        "features = layers.Concatenate()([title, text_body, tags])\n",
        "features = layers.Dense(64, activation=\"relu\")(features)\n",
        "\n",
        "priority = layers.Dense(1, activation=\"sigmoid\", name=\"priority\")(features)\n",
        "department = layers.Dense(\n",
        "    num_departments, activation=\"softmax\", name=\"department\")(features)\n",
        "\n",
        "model = keras.Model(inputs=[title, text_body, tags], outputs=[priority, department])"
      ],
      "metadata": {
        "id": "msI_VxyVQv0W"
      },
      "execution_count": 16,
      "outputs": []
    },
    {
      "cell_type": "code",
      "source": [
        "# 입력과 타깃 배열 리스트를 전달하여 모델 훈련하기\n",
        "num_samples = 1280\n",
        "\n",
        "title_data = np.random.randint(0, 2, size=(num_samples, vocabulary_size))\n",
        "text_body_data = np.random.randint(0, 2, size=(num_samples, vocabulary_size))\n",
        "tags_data = np.random.randint(0, 2, size=(num_samples, num_tags))\n",
        "\n",
        "priority_data = np.random.random(size=(num_samples, 1))\n",
        "department_data = np.random.randint(0, 2, size=(num_samples, num_departments))\n",
        "\n",
        "model.compile(optimizer=\"rmsprop\",\n",
        "              loss=[\"mean_squared_error\", \"categorical_crossentropy\"],\n",
        "              metrics=[[\"mean_absolute_error\"], [\"accuracy\"]])\n",
        "model.fit([title_data, text_body_data, tags_data],\n",
        "          [priority_data, department_data],\n",
        "          epochs=1)\n",
        "model.evaluate([title_data, text_body_data, tags_data],\n",
        "               [priority_data, department_data])\n",
        "priority_preds, department_preds = model.predict([title_data, text_body_data, tags_data])"
      ],
      "metadata": {
        "colab": {
          "base_uri": "https://localhost:8080/"
        },
        "id": "0xCD1JxXQ6sm",
        "outputId": "d7bc5c78-414d-47be-ca68-240c32cda61e"
      },
      "execution_count": 17,
      "outputs": [
        {
          "output_type": "stream",
          "name": "stdout",
          "text": [
            "40/40 [==============================] - 3s 33ms/step - loss: 54.5331 - priority_loss: 0.3343 - department_loss: 54.1989 - priority_mean_absolute_error: 0.5012 - department_accuracy: 0.2602\n",
            "40/40 [==============================] - 1s 11ms/step - loss: 31.8998 - priority_loss: 0.3373 - department_loss: 31.5625 - priority_mean_absolute_error: 0.5034 - department_accuracy: 0.1086\n",
            "40/40 [==============================] - 1s 11ms/step\n"
          ]
        }
      ]
    },
    {
      "cell_type": "code",
      "source": [
        "# 입력과 타깃 배열을 딕셔너리로 전달하여 모델 훈련하기\n",
        "model.compile(optimizer=\"rmsprop\",\n",
        "              loss={\"priority\": \"mean_squared_error\", \"department\": \"categorical_crossentropy\"},\n",
        "              metrics={\"priority\": [\"mean_absolute_error\"], \"department\": [\"accuracy\"]})\n",
        "model.fit({\"title\": title_data, \"text_body\": text_body_data, \"tags\": tags_data},\n",
        "          {\"priority\": priority_data, \"department\": department_data},\n",
        "          epochs=1)\n",
        "model.evaluate({\"title\": title_data, \"text_body\": text_body_data, \"tags\": tags_data},\n",
        "               {\"priority\": priority_data, \"department\": department_data})\n",
        "priority_preds, department_preds = model.predict(\n",
        "    {\"title\": title_data, \"text_body\": text_body_data, \"tags\": tags_data})"
      ],
      "metadata": {
        "colab": {
          "base_uri": "https://localhost:8080/"
        },
        "id": "DIHBmD3uRCW2",
        "outputId": "88ba900c-21cb-48f2-e5b6-e8724582fa90"
      },
      "execution_count": 18,
      "outputs": [
        {
          "output_type": "stream",
          "name": "stdout",
          "text": [
            "40/40 [==============================] - 1s 18ms/step - loss: 53.1239 - priority_loss: 0.3373 - department_loss: 52.7866 - priority_mean_absolute_error: 0.5034 - department_accuracy: 0.2875\n",
            "40/40 [==============================] - 1s 9ms/step - loss: 62.0324 - priority_loss: 0.3373 - department_loss: 61.6951 - priority_mean_absolute_error: 0.5034 - department_accuracy: 0.2500\n",
            "40/40 [==============================] - 0s 10ms/step\n"
          ]
        }
      ]
    },
    {
      "cell_type": "code",
      "source": [
        "# 함수형 API의 장점: 층 연결 구조 활용하기\n",
        "keras.utils.plot_model(model, \"ticket_classifier.png\")"
      ],
      "metadata": {
        "colab": {
          "base_uri": "https://localhost:8080/",
          "height": 369
        },
        "id": "Myc1fk6tRI8h",
        "outputId": "56f3f615-e0ab-43d9-9480-be205b24bd97"
      },
      "execution_count": 19,
      "outputs": [
        {
          "output_type": "execute_result",
          "data": {
            "image/png": "[encoded data removed]",
            "text/plain": [
              "<IPython.core.display.Image object>"
            ]
          },
          "metadata": {},
          "execution_count": 19
        }
      ]
    },
    {
      "cell_type": "code",
      "source": [
        "keras.utils.plot_model(model, \"ticket_classifier_with_shape_info.png\", show_shapes=True)"
      ],
      "metadata": {
        "colab": {
          "base_uri": "https://localhost:8080/",
          "height": 275
        },
        "id": "ufnjh6d4RMdD",
        "outputId": "c3926662-d025-4edc-9190-3625ea965a45"
      },
      "execution_count": 20,
      "outputs": [
        {
          "output_type": "execute_result",
          "data": {
            "image/png": "[encoded data removed]",
            "text/plain": [
              "<IPython.core.display.Image object>"
            ]
          },
          "metadata": {},
          "execution_count": 20
        }
      ]
    },
    {
      "cell_type": "code",
      "source": [
        "# 함수형 모델에 있는 층의 입력과 출력을 출력하기\n",
        "model.layers"
      ],
      "metadata": {
        "colab": {
          "base_uri": "https://localhost:8080/"
        },
        "id": "FXtVDT8zRUx9",
        "outputId": "b0eecc63-8e73-41ca-c489-ce61859213a1"
      },
      "execution_count": 21,
      "outputs": [
        {
          "output_type": "execute_result",
          "data": {
            "text/plain": [
              "[<keras.src.engine.input_layer.InputLayer at 0x7890dcebebc0>,\n",
              " <keras.src.engine.input_layer.InputLayer at 0x7890dcebc910>,\n",
              " <keras.src.engine.input_layer.InputLayer at 0x7890dcebf0d0>,\n",
              " <keras.src.layers.merging.concatenate.Concatenate at 0x7890dcebf910>,\n",
              " <keras.src.layers.core.dense.Dense at 0x7890df887370>,\n",
              " <keras.src.layers.core.dense.Dense at 0x7890df884bb0>,\n",
              " <keras.src.layers.core.dense.Dense at 0x7890dced13f0>]"
            ]
          },
          "metadata": {},
          "execution_count": 21
        }
      ]
    },
    {
      "cell_type": "code",
      "source": [
        "model.layers[3].input"
      ],
      "metadata": {
        "colab": {
          "base_uri": "https://localhost:8080/"
        },
        "id": "JYre-9FgRW3n",
        "outputId": "b676e7b2-0620-4fcd-d2ec-c986da1cf969"
      },
      "execution_count": 22,
      "outputs": [
        {
          "output_type": "execute_result",
          "data": {
            "text/plain": [
              "[<KerasTensor: shape=(None, 10000) dtype=float32 (created by layer 'title')>,\n",
              " <KerasTensor: shape=(None, 10000) dtype=float32 (created by layer 'text_body')>,\n",
              " <KerasTensor: shape=(None, 100) dtype=float32 (created by layer 'tags')>]"
            ]
          },
          "metadata": {},
          "execution_count": 22
        }
      ]
    },
    {
      "cell_type": "code",
      "source": [
        "model.layers[3].output"
      ],
      "metadata": {
        "colab": {
          "base_uri": "https://localhost:8080/"
        },
        "id": "RKnuDE_hRY4Y",
        "outputId": "fffba7b7-2451-4783-bcd5-5bec4a8d314c"
      },
      "execution_count": 23,
      "outputs": [
        {
          "output_type": "execute_result",
          "data": {
            "text/plain": [
              "<KerasTensor: shape=(None, 20100) dtype=float32 (created by layer 'concatenate')>"
            ]
          },
          "metadata": {},
          "execution_count": 23
        }
      ]
    },
    {
      "cell_type": "code",
      "source": [
        "# 중간 층의 출력을 재사용해 새로운 모델 만들기\n",
        "features = model.layers[4].output\n",
        "difficulty = layers.Dense(3, activation=\"softmax\", name=\"difficulty\")(features)\n",
        "\n",
        "new_model = keras.Model(\n",
        "    inputs=[title, text_body, tags],\n",
        "    outputs=[priority, department, difficulty])"
      ],
      "metadata": {
        "id": "awTtbxFKRcB2"
      },
      "execution_count": 24,
      "outputs": []
    },
    {
      "cell_type": "code",
      "source": [
        "keras.utils.plot_model(new_model, \"updated_ticket_classifier.png\", show_shapes=True)"
      ],
      "metadata": {
        "colab": {
          "base_uri": "https://localhost:8080/",
          "height": 275
        },
        "id": "j-2FhrXsReH5",
        "outputId": "d262a132-2ca5-46ef-c58b-9c1380473e2c"
      },
      "execution_count": 25,
      "outputs": [
        {
          "output_type": "execute_result",
          "data": {
            "image/png": "[encoded data removed]",
            "text/plain": [
              "<IPython.core.display.Image object>"
            ]
          },
          "metadata": {},
          "execution_count": 25
        }
      ]
    },
    {
      "cell_type": "markdown",
      "source": [
        "### **3. Subclassing model**\n",
        "\n",
        "**이전 예제를 서브클래싱 모델로 다시 만들기**"
      ],
      "metadata": {
        "id": "AZrK3AxGRjzE"
      }
    },
    {
      "cell_type": "code",
      "source": [
        "# 간단한 서브클래싱 모델\n",
        "class CustomerTicketModel(keras.Model):\n",
        "\n",
        "    def __init__(self, num_departments):\n",
        "        super().__init__()\n",
        "        self.concat_layer = layers.Concatenate()\n",
        "        self.mixing_layer = layers.Dense(64, activation=\"relu\")\n",
        "        self.priority_scorer = layers.Dense(1, activation=\"sigmoid\")\n",
        "        self.department_classifier = layers.Dense(\n",
        "            num_departments, activation=\"softmax\")\n",
        "\n",
        "    def call(self, inputs):\n",
        "        title = inputs[\"title\"]\n",
        "        text_body = inputs[\"text_body\"]\n",
        "        tags = inputs[\"tags\"]\n",
        "\n",
        "        features = self.concat_layer([title, text_body, tags])\n",
        "        features = self.mixing_layer(features)\n",
        "        priority = self.priority_scorer(features)\n",
        "        department = self.department_classifier(features)\n",
        "        return priority, department"
      ],
      "metadata": {
        "id": "LCj4N5gGRntY"
      },
      "execution_count": 26,
      "outputs": []
    },
    {
      "cell_type": "code",
      "source": [
        "model = CustomerTicketModel(num_departments=4)\n",
        "\n",
        "priority, department = model(\n",
        "    {\"title\": title_data, \"text_body\": text_body_data, \"tags\": tags_data})"
      ],
      "metadata": {
        "id": "tydxk6nRRrdf"
      },
      "execution_count": 27,
      "outputs": []
    },
    {
      "cell_type": "code",
      "source": [
        "model.compile(optimizer=\"rmsprop\",\n",
        "              loss=[\"mean_squared_error\", \"categorical_crossentropy\"],\n",
        "              metrics=[[\"mean_absolute_error\"], [\"accuracy\"]])\n",
        "model.fit({\"title\": title_data,\n",
        "           \"text_body\": text_body_data,\n",
        "           \"tags\": tags_data},\n",
        "          [priority_data, department_data],\n",
        "          epochs=1)\n",
        "model.evaluate({\"title\": title_data,\n",
        "                \"text_body\": text_body_data,\n",
        "                \"tags\": tags_data},\n",
        "               [priority_data, department_data])\n",
        "priority_preds, department_preds = model.predict({\"title\": title_data,\n",
        "                                                  \"text_body\": text_body_data,\n",
        "                                                  \"tags\": tags_data})"
      ],
      "metadata": {
        "colab": {
          "base_uri": "https://localhost:8080/"
        },
        "id": "74Cz2HSsRtd4",
        "outputId": "3c8fb295-444c-4e0b-b0f2-4a2d7e1ed9fc"
      },
      "execution_count": 28,
      "outputs": [
        {
          "output_type": "stream",
          "name": "stdout",
          "text": [
            "40/40 [==============================] - 2s 23ms/step - loss: 32.4748 - output_1_loss: 0.3074 - output_2_loss: 32.1675 - output_1_mean_absolute_error: 0.4730 - output_2_accuracy: 0.3047\n",
            "40/40 [==============================] - 1s 18ms/step - loss: 22.0176 - output_1_loss: 0.3304 - output_2_loss: 21.6872 - output_1_mean_absolute_error: 0.4966 - output_2_accuracy: 0.2477\n",
            "40/40 [==============================] - 0s 8ms/step\n"
          ]
        }
      ]
    },
    {
      "cell_type": "markdown",
      "source": [
        "### **4. Mixing model**\n",
        "\n",
        "**주의: 서브클래싱된 모델이 지원하지 않는 것**"
      ],
      "metadata": {
        "id": "BWsLZBQ9RxHK"
      }
    },
    {
      "cell_type": "code",
      "source": [
        "# 여러 방식을 혼합하여 사용하기\n",
        "# 서브클래싱한 모델을 포함하는 함수형 모델 만들기\n",
        "class Classifier(keras.Model):\n",
        "\n",
        "    def __init__(self, num_classes=2):\n",
        "        super().__init__()\n",
        "        if num_classes == 2:\n",
        "            num_units = 1\n",
        "            activation = \"sigmoid\"\n",
        "        else:\n",
        "            num_units = num_classes\n",
        "            activation = \"softmax\"\n",
        "        self.dense = layers.Dense(num_units, activation=activation)\n",
        "\n",
        "    def call(self, inputs):\n",
        "        return self.dense(inputs)\n",
        "\n",
        "inputs = keras.Input(shape=(3,))\n",
        "features = layers.Dense(64, activation=\"relu\")(inputs)\n",
        "outputs = Classifier(num_classes=10)(features)\n",
        "model = keras.Model(inputs=inputs, outputs=outputs)"
      ],
      "metadata": {
        "id": "fgDBR372R0Qp"
      },
      "execution_count": 29,
      "outputs": []
    },
    {
      "cell_type": "code",
      "source": [
        "# 함수형 모델을 포함하는 서브클래싱 모델 만들기\n",
        "inputs = keras.Input(shape=(64,))\n",
        "outputs = layers.Dense(1, activation=\"sigmoid\")(inputs)\n",
        "binary_classifier = keras.Model(inputs=inputs, outputs=outputs)\n",
        "\n",
        "class MyModel(keras.Model):\n",
        "    def __init__(self, num_classes=2):\n",
        "        super().__init__()\n",
        "        self.dense = layers.Dense(64, activation=\"relu\")\n",
        "        self.classifier = binary_classifier\n",
        "\n",
        "    def call(self, inputs):\n",
        "        features = self.dense(inputs)\n",
        "        return self.classifier(features)\n",
        "\n",
        "model = MyModel()"
      ],
      "metadata": {
        "id": "XhtN6eRrR5WT"
      },
      "execution_count": 30,
      "outputs": []
    },
    {
      "cell_type": "markdown",
      "source": [
        "### **5.사용자 정의 훈련 스탭을 사용하는 모델**"
      ],
      "metadata": {
        "id": "S_lCT7eDQFEb"
      }
    },
    {
      "cell_type": "code",
      "source": [
        "# 모델 만들기(나중에 재사용할 수 있도록 별도의 함수로 만들기)\n",
        "def get_mnist_model():\n",
        "  inputs = keras.Input(shape=(28 * 28, ))\n",
        "  features = layers.Dense(512, activation='relu')(inputs)\n",
        "  features = layers.Dropout(0.5)(features)\n",
        "  outputs = layers.Dense(10, activation='softmax')(features)\n",
        "  model = keras.Model(inputs, outputs)\n",
        "  return model"
      ],
      "metadata": {
        "id": "b4VqdgwP5smX"
      },
      "execution_count": 31,
      "outputs": []
    },
    {
      "cell_type": "code",
      "source": [
        "(images, labels), (test_images, test_labels) = mnist.load_data() # 데이터 로드, 검증 위해 떼어 놓음\n",
        "images = images.reshape((60000, 28 * 28)).astype('float32') / 255\n",
        "test_images = test_images.reshape((10000, 28 * 28)).astype('float32') / 255\n",
        "train_images, val_images = images[10000:], images[:10000]\n",
        "train_labels, val_labels = labels[10000:], labels[:10000]"
      ],
      "metadata": {
        "colab": {
          "base_uri": "https://localhost:8080/"
        },
        "id": "WLumb3U66SqV",
        "outputId": "957f67c0-a58c-4188-e6d4-7a2251e06f65"
      },
      "execution_count": 32,
      "outputs": [
        {
          "output_type": "stream",
          "name": "stdout",
          "text": [
            "Downloading data from https://storage.googleapis.com/tensorflow/tf-keras-datasets/mnist.npz\n",
            "11490434/11490434 [==============================] - 0s 0us/step\n"
          ]
        }
      ]
    },
    {
      "cell_type": "code",
      "source": [
        "# 지도 학습을 위한 훈련 스텝\n",
        "def train_step(inputs, targets):\n",
        "  with tf.GradientTape() as tape:\n",
        "    predictions = model(inputs, training=True)\n",
        "    loss = loss_fn(targets, predictions)\n",
        "  gradients = tape.gradients(loss, model.trainable_weights)\n",
        "  optimizer.apply_gradients(zip(model.trainable_weights, gradients))"
      ],
      "metadata": {
        "id": "p46HJhqC2D15"
      },
      "execution_count": 33,
      "outputs": []
    },
    {
      "cell_type": "code",
      "source": [
        "# 측정 지표의 저수준 사용법\n",
        "metric = keras.metrics.SparseCategoricalAccuracy()\n",
        "targets = [0, 1, 2]\n",
        "predictions = [[1, 0, 0], [0, 1, 0], [0, 0, 1]]\n",
        "metric.update_state(targets, predictions)\n",
        "current_result = metric.result()\n",
        "print(f'결과: {current_result:.2f}')"
      ],
      "metadata": {
        "colab": {
          "base_uri": "https://localhost:8080/"
        },
        "id": "jZFyk8z-29lu",
        "outputId": "eb184a48-27b7-49d4-a8a1-0f8a90a225af"
      },
      "execution_count": 34,
      "outputs": [
        {
          "output_type": "stream",
          "name": "stdout",
          "text": [
            "결과: 1.00\n"
          ]
        }
      ]
    },
    {
      "cell_type": "code",
      "source": [
        "# 모델의 손실처럼 스칼라 값의 평균을 추적해야 할 수도 있음.\n",
        "# keras.metrics.Mean을 사용해서 이를 처리할 수 있음.\n",
        "values = [0, 1, 2, 3, 4]\n",
        "mean_tracker = keras.metrics.Mean()\n",
        "for value in values:\n",
        "  mean_tracker.update_state(value)\n",
        "print(f'평균 지표: {mean_tracker.result():.2f}')"
      ],
      "metadata": {
        "colab": {
          "base_uri": "https://localhost:8080/"
        },
        "id": "oweGAzh74CIF",
        "outputId": "c17870e2-482e-4801-b6f8-7c93a604678a"
      },
      "execution_count": 35,
      "outputs": [
        {
          "output_type": "stream",
          "name": "stdout",
          "text": [
            "평균 지표: 2.00\n"
          ]
        }
      ]
    },
    {
      "cell_type": "markdown",
      "source": [
        "(훈련 에포크나 평가를 시작할 때처럼) 현재 결과르 재설정하고 싶을 때 `metric.reset_state()`를 사용해야 함."
      ],
      "metadata": {
        "id": "DmtmtcEN4iUI"
      }
    },
    {
      "cell_type": "markdown",
      "source": [
        "정방향 패스, 역방향 패스, 지표 추적을 fit()과 유사한 훈련 스텝 함수로 연결해보자.\n",
        "\n",
        "이 함수는 데이터와 타겟의 배치를 받고 fit() 진행 표시줄이 출력하는 로그를 반환함"
      ],
      "metadata": {
        "id": "ItbujrLq4t48"
      }
    },
    {
      "cell_type": "code",
      "source": [
        "# 단계별 훈련 루프 작성하기 : 훈련 스텝 함수\n",
        "model = get_mnist_model()  # 모델 불러오기\n",
        "\n",
        "loss_fn = keras.losses.SparseCategoricalCrossentropy() # 손실함수 준비하기\n",
        "optimizer = keras.optimizers.RMSprop() # 옵티마이저 준비하기\n",
        "metrics = [keras.metrics.SparseCategoricalAccuracy()] # 모니터링할 지표 리스트 준비하기\n",
        "loss_tracking_metric = keras.metrics.Mean() # 손실 평균을 추적할 평균 지표 준비하기\n",
        "\n",
        "def train_step(inputs, targets):\n",
        "  # 정방향 패스를 실행함\n",
        "  # training=True를 전달함\n",
        "  with tf.GradientTape() as tape:\n",
        "    predictions = model(inputs, training=True)\n",
        "    loss = loss_fn(targets, predictions)\n",
        "  # 역방향 패스를 실행함\n",
        "  # model.trainable_weights를 사용함\n",
        "  gradients = tape.gradient(loss, model.trainable_weights)\n",
        "  optimizer.apply_gradients(zip(gradients, model.trainable_weights))\n",
        "  logs = {}\n",
        "  # 측정지표 계산하기\n",
        "  for metric in metrics:\n",
        "    metric.update_state(targets, predictions)\n",
        "    logs[metric.name] = metric.result().numpy()\n",
        "    # 손실 평균 계산하기\n",
        "    loss_tracking_metric.update_state(loss)\n",
        "    logs['loss'] = loss_tracking_metric.result().numpy()\n",
        "    # 지표와 손실의 현재 값을 반환\n",
        "    return logs"
      ],
      "metadata": {
        "id": "46JT-E6747p4"
      },
      "execution_count": 36,
      "outputs": []
    },
    {
      "cell_type": "code",
      "source": [
        "# 매 에포크 시작과 평가 전에 지표의 상태를 재설정해야 함.\n",
        "# 단계별 훈련 루프 작성하기 : 지표 재설정\n",
        "def reset_metrics():\n",
        "  for metric in metrics:\n",
        "    metric.reset_state()\n",
        "  loss_tracking_metric.reset_state()"
      ],
      "metadata": {
        "id": "N1oSlDjK8pWB"
      },
      "execution_count": 37,
      "outputs": []
    },
    {
      "cell_type": "code",
      "source": [
        "# 완전한 훈련 루프를 구성할 수 있음.\n",
        "# tf.data.Dataset 객체를 사용해 데이터를 크기가 32인 배치로 데이터를 순회하는 반복자로 바꿈\n",
        "# 단계별 훈련 루프 작성하기 : 훈련 루프 자체\n",
        "training_dataset = tf.data.Dataset.from_tensor_slices(\n",
        "    (train_images, train_labels))\n",
        "training_dataset = training_dataset.batch(32)\n",
        "epochs = 10\n",
        "for epoch in range(epochs):\n",
        "  reset_metrics()\n",
        "  for inputs_batch, targets_batch in training_dataset:\n",
        "    logs = train_step(inputs_batch, targets_batch)\n",
        "  print(f'{epoch}번째 에포크 결과')\n",
        "  for key, value in logs.items():\n",
        "    print(f'...{key}: {value:.4f}')"
      ],
      "metadata": {
        "colab": {
          "base_uri": "https://localhost:8080/"
        },
        "id": "4KFW2X_K86xq",
        "outputId": "52713965-f659-4b2d-ec1e-4d3f85ed8779"
      },
      "execution_count": 38,
      "outputs": [
        {
          "output_type": "stream",
          "name": "stdout",
          "text": [
            "0번째 에포크 결과\n",
            "...sparse_categorical_accuracy: 0.9146\n",
            "...loss: 0.2905\n",
            "1번째 에포크 결과\n",
            "...sparse_categorical_accuracy: 0.9536\n",
            "...loss: 0.1609\n",
            "2번째 에포크 결과\n",
            "...sparse_categorical_accuracy: 0.9621\n",
            "...loss: 0.1324\n",
            "3번째 에포크 결과\n",
            "...sparse_categorical_accuracy: 0.9681\n",
            "...loss: 0.1142\n",
            "4번째 에포크 결과\n",
            "...sparse_categorical_accuracy: 0.9724\n",
            "...loss: 0.1055\n",
            "5번째 에포크 결과\n",
            "...sparse_categorical_accuracy: 0.9740\n",
            "...loss: 0.0964\n",
            "6번째 에포크 결과\n",
            "...sparse_categorical_accuracy: 0.9759\n",
            "...loss: 0.0913\n",
            "7번째 에포크 결과\n",
            "...sparse_categorical_accuracy: 0.9773\n",
            "...loss: 0.0843\n",
            "8번째 에포크 결과\n",
            "...sparse_categorical_accuracy: 0.9785\n",
            "...loss: 0.0791\n",
            "9번째 에포크 결과\n",
            "...sparse_categorical_accuracy: 0.9797\n",
            "...loss: 0.0741\n"
          ]
        }
      ]
    },
    {
      "cell_type": "code",
      "source": [
        "# 단계별 평가 루프 작성하기\n",
        "def test_step(inputs, targets):\n",
        "  predictions = model(inputs, training=False)\n",
        "  loss = loss_fn(targets, predictions)\n",
        "\n",
        "  logs = {}\n",
        "  for metric in metrics:\n",
        "    metric.update_state(targets, predictions)\n",
        "    logs['val_'+metric.name] = metric.result()\n",
        "  loss_tracking_metric.update_state(loss)\n",
        "  logs['val_loss'] = loss_tracking_metric.result()\n",
        "  return logs\n",
        "\n",
        "val_dataset = tf.data.Dataset.from_tensor_slices((val_images, val_labels))\n",
        "val_dataset = val_dataset.batch(32)\n",
        "reset_metrics()\n",
        "for inputs_batch, targets_batch in val_dataset:\n",
        "  logs = test_step(inputs_batch, targets_batch)\n",
        "print('평가 결과:')\n",
        "for key, value in logs.items():\n",
        "  print(f'...{key}: {value:.4f}')"
      ],
      "metadata": {
        "colab": {
          "base_uri": "https://localhost:8080/"
        },
        "id": "rZE9TxqPBDZ0",
        "outputId": "9efda588-d861-4e81-ab14-f946f4fb8a77"
      },
      "execution_count": 39,
      "outputs": [
        {
          "output_type": "stream",
          "name": "stdout",
          "text": [
            "평가 결과:\n",
            "...val_sparse_categorical_accuracy: 0.9761\n",
            "...val_loss: 0.1011\n"
          ]
        }
      ]
    },
    {
      "cell_type": "markdown",
      "source": [
        "기본적으로 동일한 로직을 구현했지만 직접 작성한 루프가 케라스에 내장된 fit()과 evaluate() 메서드보다 훨씬 느리게 실행됨.\n",
        "\n",
        "기본적으로 tensorflow 코드는 numpy나 일반적인 python 코드와 비슷하게 즉시(eagerly) 라인 단위로 실행되기 때문임.\n",
        "\n",
        "**즉시 실행(eager execution)**은 코드 디버깅을 쉽게 만들어주나, 성능 측면에서는 최적이 아님.\n",
        "\n",
        "tensorflow 코드는 계산 그래프(computation graph)로 컴파일하는 것이 더 성능이 좋음.\n",
        "\n",
        "컴파일하고 싶은 함수에 `@tf.function` 데코레이터(decorator)를 추가하면,\n",
        "\n",
        "라인 단위로 해석되는 코드에서는 할 수 없는 전역적인 최적화가 가능함."
      ],
      "metadata": {
        "id": "Dl-sVd5QFUkO"
      }
    },
    {
      "cell_type": "code",
      "source": [
        "# 평가 스텝 함수에 @tf.function 데코레이터 추가하기\n",
        "\n",
        "@tf.function  # @tf.function 데코레이터 추가\n",
        "\n",
        "def test_step(inputs, targets):\n",
        "  predictions = model(inputs, training=False)\n",
        "  loss = loss_fn(targets, predictions)\n",
        "\n",
        "  logs = {}\n",
        "  for metric in metrics:\n",
        "    metric.update_state(targets, predictions)\n",
        "    logs['val_'+metric.name] = metric.result()\n",
        "  loss_tracking_metric.update_state(loss)\n",
        "  logs['val_loss'] = loss_tracking_metric.result()\n",
        "  return logs\n",
        "\n",
        "val_dataset = tf.data.Dataset.from_tensor_slices((val_images, val_labels))\n",
        "val_dataset = val_dataset.batch(32)\n",
        "reset_metrics()\n",
        "for inputs_batch, targets_batch in val_dataset:\n",
        "  logs = test_step(inputs_batch, targets_batch)\n",
        "print('평가 결과:')\n",
        "for key, value in logs.items():\n",
        "  print(f'...{key}: {value:.4f}')"
      ],
      "metadata": {
        "colab": {
          "base_uri": "https://localhost:8080/"
        },
        "id": "GSU8_RRBGIEq",
        "outputId": "39d1520c-9274-47b9-a9cf-649c69c9de89"
      },
      "execution_count": 40,
      "outputs": [
        {
          "output_type": "stream",
          "name": "stdout",
          "text": [
            "평가 결과:\n",
            "...val_sparse_categorical_accuracy: 0.9761\n",
            "...val_loss: 0.1011\n"
          ]
        }
      ]
    },
    {
      "cell_type": "markdown",
      "source": [
        "사용자 정의 훈련 알고리즘이 필요하지만 케라스에 내장된 훈련 로직의 기능을 활용하고 싶다면, **사용자 정의 훈련 스텝 함수를 제공**하고 **나머지 처리는 프레임워크에 위임**할 수 있음."
      ],
      "metadata": {
        "id": "_s-e9JOsGk9c"
      }
    },
    {
      "cell_type": "code",
      "source": [
        "# fit()이 사용할 사용자 정의 훈련 스텝 구현하기\n",
        "loss_fn = keras.losses.SparseCategoricalCrossentropy()\n",
        "# 이 객체는 훈련과 평균 과정에서 배치 손실의 평균을 추적함\n",
        "loss_tracker = keras.metrics.Mean(name='loss')\n",
        "\n",
        "class CustomModel(keras.Model):\n",
        "  # train_step 메서드를 오버라이딩함\n",
        "  def train_step(self, data):\n",
        "    inputs, targets = data\n",
        "    with tf.GradientTape() as tape:\n",
        "      # 모델이 클래스 자체이므로 model(inputs, training=True) 대신에 self(inputs, training=True)를 사용함\n",
        "      predictions = self(inputs, training=True)\n",
        "      loss = loss_fn(targets, predictions)\n",
        "    gradients = tape.gradient(loss, self.trainable_weights)\n",
        "    self.optimizer.apply_gradients(zip(gradients, self.trainable_weights))\n",
        "    # 손실의 평균을 추적하는 loss_tracker를 업데이트\n",
        "    loss_tracker.update_state(loss)\n",
        "    # 평균 손실을 구함\n",
        "    return {'loss': loss_tracker.result()}\n",
        "\n",
        "@property\n",
        "# 에포크마다 재설정할 지표는 여기에 나열해야 함\n",
        "def metrics(self):\n",
        "  return [loss_tracker]"
      ],
      "metadata": {
        "id": "N0BOD36PG29g"
      },
      "execution_count": 41,
      "outputs": []
    },
    {
      "cell_type": "code",
      "source": [
        "# 이제 사용자 정의 모델의 객체를 만들고, 컴파일하고\n",
        "# 보통 때처럼 fit() 메서드로 훈련할 수 있음.\n",
        "inputs = keras.Input(shape=(28 * 28, ))\n",
        "features = layers.Dense(512, activation='relu')(inputs)\n",
        "features = layers.Dropout(0.5)(features)\n",
        "outputs = layers.Dense(10, activation='softmax')(features)\n",
        "model = CustomModel(inputs, outputs)\n",
        "\n",
        "model.compile(optimizer=keras.optimizers.RMSprop())\n",
        "model.fit(train_images, train_labels, epochs=10)"
      ],
      "metadata": {
        "colab": {
          "base_uri": "https://localhost:8080/"
        },
        "id": "2084RO8CINEQ",
        "outputId": "004ce365-3b69-4c9b-f493-92d8b5af9c03"
      },
      "execution_count": 42,
      "outputs": [
        {
          "output_type": "stream",
          "name": "stdout",
          "text": [
            "Epoch 1/10\n",
            "1563/1563 [==============================] - 11s 7ms/step - loss: 0.4509\n",
            "Epoch 2/10\n",
            "1563/1563 [==============================] - 10s 6ms/step - loss: 0.2563\n",
            "Epoch 3/10\n",
            "1563/1563 [==============================] - 14s 9ms/step - loss: 0.2088\n",
            "Epoch 4/10\n",
            "1563/1563 [==============================] - 13s 8ms/step - loss: 0.1832\n",
            "Epoch 5/10\n",
            "1563/1563 [==============================] - 10s 7ms/step - loss: 0.1665\n",
            "Epoch 6/10\n",
            "1563/1563 [==============================] - 11s 7ms/step - loss: 0.1543\n",
            "Epoch 7/10\n",
            "1563/1563 [==============================] - 11s 7ms/step - loss: 0.1447\n",
            "Epoch 8/10\n",
            "1563/1563 [==============================] - 10s 6ms/step - loss: 0.1368\n",
            "Epoch 9/10\n",
            "1563/1563 [==============================] - 11s 7ms/step - loss: 0.1304\n",
            "Epoch 10/10\n",
            "1563/1563 [==============================] - 11s 7ms/step - loss: 0.1244\n"
          ]
        },
        {
          "output_type": "execute_result",
          "data": {
            "text/plain": [
              "<keras.src.callbacks.History at 0x7890dcb79a50>"
            ]
          },
          "metadata": {},
          "execution_count": 42
        }
      ]
    },
    {
      "cell_type": "markdown",
      "source": [
        "몇 가지 주의할 점이 있음.\n",
        "* 이 패턴 때문에 함수형 API로 모델을 만드는 데 문제가 되지 않음. Sequential 모델, 함수형 모델, 서브클래싱 모델을 만드는지에 상관없이 이 방식을 사용할 수 있음.\n",
        "* 이 프레임워크가 알아서 처리하기 때문에 train_step 메서드를 오버라이딩할 때 @tf.function 데코레이터를 사용할 필요가 없음."
      ],
      "metadata": {
        "id": "cJ--ufKaItFH"
      }
    },
    {
      "cell_type": "code",
      "source": [
        "class CustomModel(keras.Model):\n",
        "  def train_step(self, data):\n",
        "    inputs, targets = data\n",
        "    with tf.GradientTape() as tape:\n",
        "      predictions = self(inputs, training=True)\n",
        "      # self.compiled_loss를 사용해서 손실을 계산함\n",
        "      loss = self.compiled_loss(targets, predictions)\n",
        "    gradients = tape.gradient(loss, self.trainable_weights)\n",
        "    self.optimizer.apply_gradients(zip(gradients, self.trainable_weights))\n",
        "    # self.compiled_metrics로 모델의 지표 업데이트\n",
        "    self.compiled_metrics.update_state(targets, predictions)\n",
        "    # 측정 지표 이름과 현재 값을 매핑한 딕셔너리를 반환함\n",
        "    return {m.name: m.result() for m in self.metrics}"
      ],
      "metadata": {
        "id": "bGptlaoJJGjc"
      },
      "execution_count": 43,
      "outputs": []
    },
    {
      "cell_type": "code",
      "source": [
        "# 테스트하기\n",
        "inputs = keras.Input(shape=(28 * 28, ))\n",
        "features = layers.Dense(512, activation='relu')(inputs)\n",
        "features = layers.Dropout(0.5)(features)\n",
        "outputs = layers.Dense(10, activation='softmax')(features)\n",
        "model = CustomModel(inputs, outputs)\n",
        "\n",
        "model.compile(optimizer=keras.optimizers.RMSprop(),\n",
        "              loss=keras.losses.SparseCategoricalCrossentropy(),\n",
        "              metrics=[keras.metrics.SparseCategoricalAccuracy()])\n",
        "model.fit(train_images, train_labels, epochs=10)"
      ],
      "metadata": {
        "colab": {
          "base_uri": "https://localhost:8080/"
        },
        "id": "b7XakhzdKKtH",
        "outputId": "1d6c12fd-60c8-4503-8441-2d50ac504ed7"
      },
      "execution_count": 44,
      "outputs": [
        {
          "output_type": "stream",
          "name": "stdout",
          "text": [
            "Epoch 1/10\n",
            "1563/1563 [==============================] - 11s 7ms/step - loss: 0.2953 - sparse_categorical_accuracy: 0.9120\n",
            "Epoch 2/10\n",
            "1563/1563 [==============================] - 10s 6ms/step - loss: 0.1622 - sparse_categorical_accuracy: 0.9524\n",
            "Epoch 3/10\n",
            "1563/1563 [==============================] - 10s 6ms/step - loss: 0.1325 - sparse_categorical_accuracy: 0.9623\n",
            "Epoch 4/10\n",
            "1563/1563 [==============================] - 11s 7ms/step - loss: 0.1170 - sparse_categorical_accuracy: 0.9681\n",
            "Epoch 5/10\n",
            "1563/1563 [==============================] - 11s 7ms/step - loss: 0.1022 - sparse_categorical_accuracy: 0.9709\n",
            "Epoch 6/10\n",
            "1563/1563 [==============================] - 11s 7ms/step - loss: 0.0948 - sparse_categorical_accuracy: 0.9746\n",
            "Epoch 7/10\n",
            "1563/1563 [==============================] - 11s 7ms/step - loss: 0.0889 - sparse_categorical_accuracy: 0.9758\n",
            "Epoch 8/10\n",
            "1563/1563 [==============================] - 9s 6ms/step - loss: 0.0822 - sparse_categorical_accuracy: 0.9766\n",
            "Epoch 9/10\n",
            "1563/1563 [==============================] - 11s 7ms/step - loss: 0.0773 - sparse_categorical_accuracy: 0.9793\n",
            "Epoch 10/10\n",
            "1563/1563 [==============================] - 11s 7ms/step - loss: 0.0719 - sparse_categorical_accuracy: 0.9803\n"
          ]
        },
        {
          "output_type": "execute_result",
          "data": {
            "text/plain": [
              "<keras.src.callbacks.History at 0x7890dc7d1e40>"
            ]
          },
          "metadata": {},
          "execution_count": 44
        }
      ]
    },
    {
      "cell_type": "markdown",
      "source": [
        "***"
      ],
      "metadata": {
        "id": "XkMAmknnOcOZ"
      }
    },
    {
      "cell_type": "markdown",
      "source": [
        "## **2. 실험**"
      ],
      "metadata": {
        "id": "lBdR5fP_khU-"
      }
    },
    {
      "cell_type": "markdown",
      "source": [
        "### **1. 모델 학습에서 어떤 일이 일어나는지 직접 확인하기**"
      ],
      "metadata": {
        "id": "FSEOAMLOkkKH"
      }
    },
    {
      "cell_type": "markdown",
      "source": [
        "[최적의 조합을 찾아보세요! 사이트](https://playground.tensorflow.org/#activation=tanh&batchSize=10&dataset=circle&regDataset=reg-plane&learningRate=0.03&regularizationRate=0&noise=0&networkShape=3,2&seed=0.80809&showTestData=false&discretize=false&percTrainData=50&x=true&y=true&xTimesY=false&xSquared=false&ySquared=false&cosX=false&sinX=false&cosY=false&sinY=false&collectStats=false&problem=classification&initZero=false&hideText=false)"
      ],
      "metadata": {
        "id": "DshFvsqwlBkS"
      }
    },
    {
      "cell_type": "markdown",
      "source": [
        "### **2. 최적의 조합을 찾아보세요!, Classification - data type 1**"
      ],
      "metadata": {
        "id": "01UDwkr2kyi0"
      }
    },
    {
      "cell_type": "markdown",
      "source": [
        "**Classification - data type 4**\n",
        "\n",
        "1. H1. 입력 층 vs 입력 뉴런 개수\n",
        "* layer 2개부터는 6 * 8 표현과 비슷하게 표현한다.\n",
        "\n",
        "2. + one layer\n",
        "- 뒤에 layer 모양을 더 잘 따르는 듯한 느낌\n",
        "- 부족하지만 더 명확하게 판단 시작\n"
      ],
      "metadata": {
        "id": "a4zKd1cvGyTP"
      }
    },
    {
      "cell_type": "markdown",
      "source": [
        "**Regression - data type 2**\n",
        "* 1개 선택, Baseline보다 loss가 높게 분포, 성능이 좋지 않음.\n",
        "* 2개 선택, 기본 피쳐를 대체하여 가공된 피쳐를 넣을 경우, Loss값이 증가하게 됨. 기본 피쳐는 필수적으로 사용해야 한다고 판단하고 추후 실험.\n",
        "* layer, 모델의 레이어가 깊어져도 유의미한 성능향상이 없었고, 오히려 너무 깊어지면 로스가 크게 튀는걸 볼 수 있음. 레이어가 넓어질 수록 성능이 조금 올라가지만, 과적합에 유의해야 함.\n",
        "* learning rate, 학습이 멈추는 에폭은 학습률 & 모델의 복잡도 등 여러 요인들에 의해 기하급수적으로 바뀌어서 매번 다른 학습률을 지정하여 여러 환경마다 테스트 해보는 것이 필요함\n",
        "* **tanh 가 sigmoid보다 훨씬 빨랐다.** 1) 시그모이드 함수는 오파역전파 수행 시 기울기가 소실되는 문제가 발생 입력의 절대값이 크면 0~1로 수렴하면서 그래디언트를 소멸시켜 버리기 때문이다. 2) 탄젠트함수는 결과값이 (-1,1)이고, 중심값이 0으로 양수와 음수가 나오는 비중이 비슷해 zigzag현상이 덜하다"
      ],
      "metadata": {
        "id": "FCMpxThZHwYY"
      }
    },
    {
      "cell_type": "markdown",
      "source": [
        "**Tabular Data : Optimizer / batch size**\n",
        "* ReLU(0.2, 0.5)\n",
        "  * ReLU(0.2) - accuracy : 0.098, loss : 2.303\n",
        "  * ReLU(0.5) - accuracy : 0.116, loss : 2.302\n",
        "* Sigmoid(0.2, 0.5)\n",
        "  * Sigmoid(0.2) - accuracy : 0.9524, loss : 0.1604\n",
        "  * Sigmoid(0.5) - accuracy : 0.9536, loss : 0.1596"
      ],
      "metadata": {
        "id": "2G1G72hSHrjH"
      }
    },
    {
      "cell_type": "markdown",
      "source": [
        "- Image Data : Layer의 구성이 달라지는 경우 1\n",
        "    - 레이어 모듈에 변화가 있는 경우\n",
        "    - Conv - Maxpool // Conv - Conv - Maxpool\n",
        "\n",
        "- Convolutional 층: 여러개의 필터를 적용해 이미지에서 특징을 추출할 때 사용\n",
        "- Max Pooling 층: 특징 맵의 차원을 줄이는 데 사용+주요특징을 추출하면서 과적합을 줄임+모델의 과적합 방지\n",
        "- conv-maxpool vs conv-conv-maxpool : 조사 결과: 첫 conv에선 기본적인 패턴 | 두번째 conv에서는 더 복잡한 패턴을 학습\n",
        "\n",
        "- conv-conv-maxpool\n",
        "  - convolutional layer가 두 개일 때, testset의 accuarcy가 조금 더 높았음.\n",
        "파란색 그래프의 loss를 보면 conv 레이어가 1개일 때 적정 에폭은 5로 보이고, conv 2개일 때는 4가 적정 에폭으로 보임. conv가 2개일 때 학습이 더 잘 된다고 할 수 있음.\n",
        "데이터가 복잡하지 않을 때, conv 2개 모델이 과적합이 일어날 가능성이 높음.\n",
        "  - 추가로 conv - droput(0.5) - conv 레이어 층으로 구성해서 돌려봄\n",
        "  - 위 레이어들에 비해 정확도가 아주 약간 적게 나왔지만, train loss값과 val loss값을 비교해봤을 때 Dropout을 통해 과적합 문제에 집중하여 개선된 모델이라고 볼 수 있을 것 같다."
      ],
      "metadata": {
        "id": "B2ALO0XuLuVf"
      }
    }
  ]
}